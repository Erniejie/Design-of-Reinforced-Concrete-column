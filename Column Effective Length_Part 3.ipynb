{
 "cells": [
  {
   "cell_type": "code",
   "execution_count": 1,
   "metadata": {},
   "outputs": [],
   "source": [
    "#  effective length of column - braced or unbraced"
   ]
  },
  {
   "cell_type": "code",
   "execution_count": 4,
   "metadata": {},
   "outputs": [
    {
     "name": "stdout",
     "output_type": "stream",
     "text": [
      "RC Column Designer v0.2\n",
      "Column Width: 300\n",
      "Column Depth: 600\n",
      "Column Area = \n",
      "180000.0\n",
      "Clear height: 7500\n",
      "k (top): 0.1\n",
      "k (base): 0.2\n",
      "Braced? (yes/no): yes\n",
      "Effective Length = \n",
      "4760.536378557594\n"
     ]
    }
   ],
   "source": [
    "import math\n",
    "\n",
    "\n",
    "print(\"RC Column Designer v0.2\")\n",
    "\n",
    "width = float(input(\"Column Width: \"))\n",
    "depth = float(input(\"Column Depth: \"))\n",
    "area = width * depth\n",
    "\n",
    "print(\"Column Area = \") \n",
    "print(area)\n",
    "\n",
    "l_clear = float(input(\"Clear height: \"))\n",
    "k_top = float(input(\"k (top): \"))\n",
    "k_bot = float(input(\"k (base): \"))\n",
    "braced = input(\"Braced? (yes/no): \")\n",
    "\n",
    "if braced == \"yes\":\n",
    "    l_eff = 0.5*l_clear * math.sqrt((1 + k_top/(0.45+k_top)) * (1 + k_bot/(0.45+k_top)))\n",
    "else:\n",
    "    l_eff = l_clear * max(math.sqrt(1 + 10*k_top*k_bot/(k_top+k_bot)), (1 + k_top/(1+k_top)) * (1 + k_bot/(1+k_bot)))\n",
    "\n",
    "print(\"Effective Length = \")\n",
    "print(l_eff)"
   ]
  },
  {
   "cell_type": "code",
   "execution_count": null,
   "metadata": {},
   "outputs": [],
   "source": []
  }
 ],
 "metadata": {
  "kernelspec": {
   "display_name": "Python 3",
   "language": "python",
   "name": "python3"
  },
  "language_info": {
   "codemirror_mode": {
    "name": "ipython",
    "version": 3
   },
   "file_extension": ".py",
   "mimetype": "text/x-python",
   "name": "python",
   "nbconvert_exporter": "python",
   "pygments_lexer": "ipython3",
   "version": "3.6.5"
  }
 },
 "nbformat": 4,
 "nbformat_minor": 2
}
